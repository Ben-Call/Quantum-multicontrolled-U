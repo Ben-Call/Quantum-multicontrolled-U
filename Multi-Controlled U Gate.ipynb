{
 "cells": [
  {
   "cell_type": "code",
   "execution_count": 1,
   "metadata": {
    "colab": {
     "base_uri": "https://localhost:8080/"
    },
    "id": "IHbn3KRMIzkD",
    "outputId": "90d22cd9-b41a-4ca3-a33e-7b7ad0301e9a",
    "scrolled": true
   },
   "outputs": [
    {
     "name": "stdout",
     "output_type": "stream",
     "text": [
      "Requirement already satisfied: qiskit in c:\\users\\bcall\\anaconda3\\lib\\site-packages (2.0.0)\n",
      "Requirement already satisfied: numpy in c:\\users\\bcall\\anaconda3\\lib\\site-packages (1.26.4)\n",
      "Requirement already satisfied: rustworkx>=0.15.0 in c:\\users\\bcall\\anaconda3\\lib\\site-packages (from qiskit) (0.16.0)\n",
      "Requirement already satisfied: scipy>=1.5 in c:\\users\\bcall\\anaconda3\\lib\\site-packages (from qiskit) (1.13.1)\n",
      "Requirement already satisfied: sympy>=1.3 in c:\\users\\bcall\\anaconda3\\lib\\site-packages (from qiskit) (1.13.2)\n",
      "Requirement already satisfied: dill>=0.3 in c:\\users\\bcall\\anaconda3\\lib\\site-packages (from qiskit) (0.3.8)\n",
      "Requirement already satisfied: python-dateutil>=2.8.0 in c:\\users\\bcall\\anaconda3\\lib\\site-packages (from qiskit) (2.9.0.post0)\n",
      "Requirement already satisfied: stevedore>=3.0.0 in c:\\users\\bcall\\anaconda3\\lib\\site-packages (from qiskit) (5.4.1)\n",
      "Requirement already satisfied: typing-extensions in c:\\users\\bcall\\anaconda3\\lib\\site-packages (from qiskit) (4.11.0)\n",
      "Requirement already satisfied: symengine<0.14,>=0.11 in c:\\users\\bcall\\anaconda3\\lib\\site-packages (from qiskit) (0.13.0)\n",
      "Requirement already satisfied: six>=1.5 in c:\\users\\bcall\\anaconda3\\lib\\site-packages (from python-dateutil>=2.8.0->qiskit) (1.16.0)\n",
      "Requirement already satisfied: pbr>=2.0.0 in c:\\users\\bcall\\anaconda3\\lib\\site-packages (from stevedore>=3.0.0->qiskit) (6.1.1)\n",
      "Requirement already satisfied: mpmath<1.4,>=1.1.0 in c:\\users\\bcall\\anaconda3\\lib\\site-packages (from sympy>=1.3->qiskit) (1.3.0)\n",
      "Requirement already satisfied: setuptools in c:\\users\\bcall\\anaconda3\\lib\\site-packages (from pbr>=2.0.0->stevedore>=3.0.0->qiskit) (75.1.0)\n",
      "Note: you may need to restart the kernel to use updated packages.\n"
     ]
    }
   ],
   "source": [
    "%pip install qiskit numpy"
   ]
  },
  {
   "cell_type": "code",
   "execution_count": 9,
   "metadata": {
    "id": "kDthYM-OI5Hq"
   },
   "outputs": [],
   "source": [
    "from qiskit.circuit import QuantumCircuit, QuantumRegister, AncillaRegister, Parameter\n",
    "from qiskit.quantum_info import Statevector, Operator\n",
    "import numpy as np"
   ]
  },
  {
   "cell_type": "markdown",
   "metadata": {},
   "source": [
    "We are implementing a multi-controlled U gate using only single qubit gates and CNOTs. To do so, we will implement this gate using the temporary logical and gate introduced by Gidney. This gate requires that the ancilla qubits used must start in the ``T state'', so we implement a state preparation circuit below."
   ]
  },
  {
   "cell_type": "code",
   "execution_count": 287,
   "metadata": {},
   "outputs": [
    {
     "data": {
      "image/png": "[encoded data removed]",
      "text/plain": [
       "<Figure size 268.66x117.056 with 1 Axes>"
      ]
     },
     "execution_count": 287,
     "metadata": {},
     "output_type": "execute_result"
    }
   ],
   "source": [
    "# State Preparation Circuit converts 0 to T state\n",
    "ancilla_register = AncillaRegister(size=1, name=\"a\")\n",
    "state_prep_circuit = QuantumCircuit(ancilla_register, name = \"State Preparation\")\n",
    "state_prep_circuit.h(ancilla_register)\n",
    "state_prep_circuit.t(ancilla_register)\n",
    "state_prep_circuit.draw(output=\"mpl\", style=\"bw\")"
   ]
  },
  {
   "cell_type": "code",
   "execution_count": 288,
   "metadata": {},
   "outputs": [],
   "source": [
    "Prep = state_prep_circuit.to_gate()"
   ]
  },
  {
   "cell_type": "markdown",
   "metadata": {},
   "source": [
    "This is the temporary logical and circuit. As written, we return the ancilla qubit back to 0, although for less computational cost, we could return it back to the T state as well"
   ]
  },
  {
   "cell_type": "code",
   "execution_count": 305,
   "metadata": {
    "scrolled": true
   },
   "outputs": [
    {
     "data": {
      "image/png": "[encoded data removed]",
      "text/plain": [
       "<Figure size 1122.2x284.278 with 1 Axes>"
      ]
     },
     "execution_count": 305,
     "metadata": {},
     "output_type": "execute_result"
    }
   ],
   "source": [
    "# Temporary Logical And Circuit\n",
    "# Takes two qubits A and B and returns A, B, and (A AND B)\n",
    "#The implementation is from Gidney's paper, ``Halving the Cost of Quantum Addition''\n",
    "quantum_register = QuantumRegister(size=2,name=\"x\")\n",
    "ancilla_register = AncillaRegister(size=1,name=\"a\")\n",
    "\n",
    "and_circuit = QuantumCircuit(quantum_register,ancilla_register, name = \"Temp_And\")\n",
    "and_circuit.compose(Prep,qubits = ancilla_register,inplace=True)\n",
    "and_circuit.cx(quantum_register[0],ancilla_register)\n",
    "and_circuit.cx(quantum_register[1],ancilla_register)\n",
    "and_circuit.cx(ancilla_register,quantum_register[1])\n",
    "and_circuit.cx(ancilla_register,quantum_register[0])\n",
    "and_circuit.tdg(quantum_register[1])\n",
    "and_circuit.tdg(quantum_register[0])\n",
    "and_circuit.t(ancilla_register)\n",
    "and_circuit.cx(ancilla_register,quantum_register[1])\n",
    "and_circuit.cx(ancilla_register,quantum_register[0])\n",
    "and_circuit.h(ancilla_register)\n",
    "and_circuit.s(ancilla_register)\n",
    "and_circuit.draw(output=\"mpl\", style=\"bw\")"
   ]
  },
  {
   "cell_type": "code",
   "execution_count": 291,
   "metadata": {},
   "outputs": [],
   "source": [
    "And_Gate = and_circuit.to_gate()"
   ]
  },
  {
   "cell_type": "markdown",
   "metadata": {},
   "source": [
    "As our implementation is, at its heart, an inductive process, we need to treat the implementation of a controlled U-gate separately, which we do below. However, we treat the phase shift separately."
   ]
  },
  {
   "cell_type": "code",
   "execution_count": 307,
   "metadata": {},
   "outputs": [],
   "source": [
    "#We implement the single controlled U gate separately, as we will be controlling on the AND of our control qubits\n",
    "#We only implement the case when U has determinant one, i.e., it has no phase shift.\n",
    "def CU_Gate(theta, phi,lam):\n",
    "    quantum_register = QuantumRegister(size=2,name=\"x\")\n",
    "    cu_circuit = QuantumCircuit(quantum_register, name=\"CU\")\n",
    "    cu_circuit.rz((lam-phi/2)/2,quantum_register[1])\n",
    "    cu_circuit.cx(quantum_register[0],quantum_register[1])\n",
    "    cu_circuit.rz(-(lam+phi/2)/2,quantum_register[1])\n",
    "    cu_circuit.ry(-theta/4,quantum_register[1])\n",
    "    cu_circuit.cx(quantum_register[0],quantum_register[1])\n",
    "    cu_circuit.ry(theta/4,quantum_register[1])\n",
    "    cu_circuit.rz(phi/2,quantum_register[1])\n",
    "    return cu_circuit\n",
    "    "
   ]
  },
  {
   "cell_type": "code",
   "execution_count": 313,
   "metadata": {},
   "outputs": [],
   "source": [
    "#The phase shift I haven't managed to implement yet.\n",
    "def CnU_Gate(n: int,theta,phi,lam,alpha):\n",
    "    if phi+lam != 0:\n",
    "        return \"Please enter a U gate with phase shift handled separately\"\n",
    "    else:\n",
    "        quantum_register = QuantumRegister(size=int(n+1),name=\"x\")\n",
    "        ancilla_register = AncillaRegister(size=int(n-1),name=\"a\")\n",
    "        cnu_circuit = QuantumCircuit(quantum_register,ancilla_register, name=\"CnU\")\n",
    "        #This implements each of the temporary and pairwise\n",
    "        #It also compares the values of each of the resulting values, until the final value is 1 only if every qubit is 1\n",
    "        for i in range(1,n):\n",
    "            cnu_circuit.compose(And_Gate,qubits=[2*i-1,2*i,-n+i],inplace=True)\n",
    "        #This implements the controlled U gate\n",
    "        cnu_circuit.compose(CU_Gate(theta,phi,lam),qubits=[2*n-1,0],inplace=True)\n",
    "        #This undoes the temporary And values to gain the use of the ancillae again.\n",
    "        for i in reversed(range(1,n)):\n",
    "            cnu_circuit.compose(And_Gate.inverse(),qubits=[2*i-1,2*i,-n+i],inplace=True)\n",
    "        return cnu_circuit.draw(output=\"mpl\",style=\"bw\")"
   ]
  },
  {
   "cell_type": "markdown",
   "metadata": {},
   "source": [
    "Explanation of the construction:\n",
    "\n",
    "This implementation is fairly straightforward. Given n qubits, $x_1,\\cdots, x_n$, it compares the values of $x_i,x_{i+1}$ pairwise, all in parallel, and returning a result in an ancilla bit. It then compares the values of each of these ancilla bits, and so on, until every qubit has been compared in one go. This will take at most $\\log_2 n$ steps. It then implements a single controlled U gate, controlled on the final ancilla, and then uncomputes each of the ancillas.\n",
    "\n",
    "Analysis:\n",
    "\n",
    "Gate depth: In this regard, I believe this implementation is rather successful. Without the phase shift, this has gate depth of O($\\log_2(n)$), because many of the temporary and gates can be operated in parallel (although this can't be seen in the diagram as easily). However, to implement the phase shift, I expect this will lift the gate depth to O(n), unless there is a clean way to retain the phase shift while uncomputing the temporary and gates (which is possible, but I haven't had a chance to fully think about it yet).\n",
    "\n",
    "Gate count: The gate count is linear in $n$, as the number of temporary and gates needed is linear in $n$.\n",
    "\n",
    "Ancillas: This is one of the major shortcomings of this implementation, in that the ancillas needed grow linearly with $n$. The one possible saving grace of this is that there are fewer $T$-gates needed then one might need for the standard Toffoli gate implementation, and, if the analysis from Gidney's paper is still current (unclear to me at the moment), then there is some benefit to minimizing T-gates, even at the expense of more ancillas."
   ]
  },
  {
   "cell_type": "code",
   "execution_count": 160,
   "metadata": {
    "colab": {
     "base_uri": "https://localhost:8080/",
     "height": 216
    },
    "id": "FXWF5GpeFRfp",
    "outputId": "ffec7403-7826-41e0-b92b-53e53bd6a7fe",
    "scrolled": true
   },
   "outputs": [
    {
     "data": {
      "image/png": "[encoded data removed]",
      "text/plain": [
       "<Figure size 536.926x200.667 with 1 Axes>"
      ]
     },
     "execution_count": 160,
     "metadata": {},
     "output_type": "execute_result"
    }
   ],
   "source": [
    "Theta = Parameter(r\"$\\theta$\") # https://docs.quantum.ibm.com/api/qiskit/qiskit.circuit.Parameter\n",
    "\n",
    "quantum_register = QuantumRegister(2, \"x\")\n",
    "\n",
    "quantum_circuit = QuantumCircuit(quantum_register)\n",
    "\n",
    "quantum_circuit.x(quantum_register)\n",
    "quantum_circuit.cx(quantum_register[0], quantum_register[1])\n",
    "quantum_circuit.p(- Theta/2, quantum_register[1])\n",
    "quantum_circuit.cx(quantum_register[0], quantum_register[1])\n",
    "quantum_circuit.p(Theta/2, quantum_register[0])\n",
    "quantum_circuit.p(Theta/2, quantum_register[1])\n",
    "\n",
    "# assign value to the parameter, define a new circuit bc\n",
    "bc = quantum_circuit.assign_parameters({Theta: np.pi})\n",
    "\n",
    "quantum_circuit.draw(output=\"mpl\", style=\"bw\")"
   ]
  },
  {
   "cell_type": "code",
   "execution_count": 153,
   "metadata": {},
   "outputs": [
    {
     "data": {
      "text/latex": [
       "$$i |11\\rangle$$"
      ],
      "text/plain": [
       "<IPython.core.display.Latex object>"
      ]
     },
     "execution_count": 153,
     "metadata": {},
     "output_type": "execute_result"
    }
   ],
   "source": [
    "Statevector(bc).draw(\"Latex\") (1,0) -> (1,0) -> (1,1) -> "
   ]
  },
  {
   "cell_type": "code",
   "execution_count": 107,
   "metadata": {},
   "outputs": [
    {
     "data": {
      "image/png": "[encoded data removed]",
      "text/plain": [
       "<Figure size 286.093x200.667 with 1 Axes>"
      ]
     },
     "execution_count": 107,
     "metadata": {},
     "output_type": "execute_result"
    }
   ],
   "source": [
    "Theta = Parameter(r\"$\\theta$\") # https://docs.quantum.ibm.com/api/qiskit/qiskit.circuit.Parameter\n",
    "\n",
    "quantum_register = QuantumRegister(2, \"x\")\n",
    "\n",
    "quantum_circuit = QuantumCircuit(quantum_register)\n",
    "\n",
    "quantum_circuit.x(quantum_register[1])\n",
    "quantum_circuit.p(Theta / 2, quantum_register[1])\n",
    "\n",
    "# assign value to the parameter, define a new circuit bc\n",
    "bc = quantum_circuit.assign_parameters({Theta: np.pi / 2})\n",
    "\n",
    "quantum_circuit.draw(output=\"mpl\", style=\"bw\")"
   ]
  },
  {
   "cell_type": "code",
   "execution_count": 108,
   "metadata": {},
   "outputs": [
    {
     "data": {
      "text/latex": [
       "$$(\\frac{\\sqrt{2}}{2} + \\frac{\\sqrt{2} i}{2}) |10\\rangle$$"
      ],
      "text/plain": [
       "<IPython.core.display.Latex object>"
      ]
     },
     "execution_count": 108,
     "metadata": {},
     "output_type": "execute_result"
    }
   ],
   "source": [
    "Statevector(bc).draw(\"Latex\")"
   ]
  },
  {
   "cell_type": "code",
   "execution_count": 109,
   "metadata": {},
   "outputs": [
    {
     "data": {
      "text/plain": [
       "array([[0.   +0.j   , 0.   +0.j   , 1.   +0.j   , 0.   +0.j   ],\n",
       "       [0.   +0.j   , 0.   +0.j   , 0.   +0.j   , 1.   +0.j   ],\n",
       "       [0.707+0.707j, 0.   +0.j   , 0.   +0.j   , 0.   +0.j   ],\n",
       "       [0.   +0.j   , 0.707+0.707j, 0.   +0.j   , 0.   +0.j   ]])"
      ]
     },
     "execution_count": 109,
     "metadata": {},
     "output_type": "execute_result"
    }
   ],
   "source": [
    "np.round(Operator(bc).data, 3)\n"
   ]
  },
  {
   "cell_type": "markdown",
   "metadata": {
    "id": "R3ig3ysdFRfp"
   },
   "source": [
    "There also is a direct method to call it, if a decomposition is unnecessary."
   ]
  },
  {
   "cell_type": "code",
   "execution_count": 161,
   "metadata": {
    "id": "05KLZxd0FRfp",
    "outputId": "14e9789c-8abd-48d6-adc4-91405c2c8c0c"
   },
   "outputs": [
    {
     "data": {
      "image/png": "[encoded data removed]",
      "text/plain": [
       "<Figure size 202.481x200.667 with 1 Axes>"
      ]
     },
     "execution_count": 161,
     "metadata": {},
     "output_type": "execute_result"
    }
   ],
   "source": [
    "Theta = Parameter(r\"$\\theta$\")\n",
    "\n",
    "quantum_register = QuantumRegister(2, \"x\")\n",
    "\n",
    "quantum_circuit = QuantumCircuit(quantum_register)\n",
    "\n",
    "quantum_circuit.cp(Theta, quantum_register[0], quantum_register[1])\n",
    "\n",
    "quantum_circuit.draw(output=\"mpl\", style=\"bw\")"
   ]
  }
 ],
 "metadata": {
  "colab": {
   "provenance": []
  },
  "kernelspec": {
   "display_name": "Python 3 (ipykernel)",
   "language": "python",
   "name": "python3"
  },
  "language_info": {
   "codemirror_mode": {
    "name": "ipython",
    "version": 3
   },
   "file_extension": ".py",
   "mimetype": "text/x-python",
   "name": "python",
   "nbconvert_exporter": "python",
   "pygments_lexer": "ipython3",
   "version": "3.12.7"
  }
 },
 "nbformat": 4,
 "nbformat_minor": 4
}
